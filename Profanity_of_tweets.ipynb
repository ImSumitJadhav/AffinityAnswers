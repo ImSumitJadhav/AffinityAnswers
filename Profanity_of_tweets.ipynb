{
  "cells": [
    {
      "cell_type": "markdown",
      "metadata": {
        "id": "view-in-github",
        "colab_type": "text"
      },
      "source": [
        "<a href=\"https://colab.research.google.com/github/ImSumitJadhav/Find-degree-of-profanity-of-tweets/blob/main/Profanity_of_tweets.ipynb\" target=\"_parent\"><img src=\"https://colab.research.google.com/assets/colab-badge.svg\" alt=\"Open In Colab\"/></a>"
      ]
    },
    {
      "cell_type": "markdown",
      "source": [
        "# **Name : To find Degree of Profanity in tweets**\n",
        "\n",
        "---"
      ],
      "metadata": {
        "id": "aXzBgYMLdGTB"
      }
    },
    {
      "cell_type": "code",
      "source": [
        "#import libraries\n",
        "import pandas as pd\n",
        "import numpy as np\n",
        "\n",
        "#to ignore warnings\n",
        "import warnings\n",
        "warnings.filterwarnings('ignore')\n",
        "\n",
        "#import google drive \n",
        "from google.colab import drive"
      ],
      "metadata": {
        "id": "t5FhZ13AwhXa"
      },
      "execution_count": 74,
      "outputs": []
    },
    {
      "cell_type": "markdown",
      "source": [
        "# **1.To find profanity present in sentence or not**\n",
        "\n",
        "---"
      ],
      "metadata": {
        "id": "8oO1Rt1MR81e"
      }
    },
    {
      "cell_type": "code",
      "source": [
        "#give word or sentence which we to find out the word or sentence consist of a bad word\n",
        "text=input()"
      ],
      "metadata": {
        "id": "0EQ1euT1xBQf",
        "outputId": "4a2d5cf9-97f5-44a2-9a2a-b734cc67b3f8",
        "colab": {
          "base_uri": "https://localhost:8080/"
        }
      },
      "execution_count": 75,
      "outputs": [
        {
          "name": "stdout",
          "output_type": "stream",
          "text": [
            "you are shit\n"
          ]
        }
      ]
    },
    {
      "cell_type": "code",
      "source": [
        "#install packages\n",
        "!pip install better_profanity"
      ],
      "metadata": {
        "colab": {
          "base_uri": "https://localhost:8080/"
        },
        "id": "UJ6TCGWYTgFe",
        "outputId": "7d4d772e-c88f-46ba-cf60-38676d83ef86"
      },
      "execution_count": 76,
      "outputs": [
        {
          "output_type": "stream",
          "name": "stdout",
          "text": [
            "Looking in indexes: https://pypi.org/simple, https://us-python.pkg.dev/colab-wheels/public/simple/\n",
            "Requirement already satisfied: better_profanity in /usr/local/lib/python3.7/dist-packages (0.7.0)\n"
          ]
        }
      ]
    },
    {
      "cell_type": "code",
      "source": [
        "#import profanity libraries\n",
        "from better_profanity import profanity\n",
        "\n",
        "#split by means of \" \"(spaces)\n",
        "text=text.split(\" \")\n",
        "\n",
        "true_len=0\n",
        "false_len=0\n",
        "\n",
        "#for loop to get each word in sentence \n",
        "for i in text:\n",
        "    #count number of words present in the sentence\n",
        "    if profanity.contains_profanity(i)==True:\n",
        "        true_len=true_len+1\n",
        "    else:\n",
        "      false_len=false_len+1\n",
        "\n",
        "#total number of words\n",
        "total_len=true_len+false_len\n",
        "\n",
        "#condition to find bad word present in the sentence\n",
        "#if word present then find out degree of profanity\n",
        "if true_len >= 1:\n",
        "  print(\"Profanity Present\")\n",
        "\n",
        "  #degree of profanity=Sum of bad words present in the tweet divided by total length of tweet.This value store in new column called \"degree_of_profinity\"\n",
        "  degree=(true_len/total_len)\n",
        "  print(\"Degree of Profanity {} \".format(degree))\n",
        "\n",
        "#else print no profanity present\n",
        "else:\n",
        "  print(\"Profanity Not Present\")\n",
        "  print(\"Degree of Profanity is ZERO\")"
      ],
      "metadata": {
        "id": "JKLPf62TzSvf",
        "outputId": "a801070c-e65b-401f-8276-61a631ac299c",
        "colab": {
          "base_uri": "https://localhost:8080/"
        }
      },
      "execution_count": 77,
      "outputs": [
        {
          "output_type": "stream",
          "name": "stdout",
          "text": [
            "Profanity Present\n",
            "Degree of Profanity 0.3333333333333333 \n"
          ]
        }
      ]
    },
    {
      "cell_type": "markdown",
      "source": [
        "**Import dataframe**"
      ],
      "metadata": {
        "id": "_ZHYUdg7dxZ-"
      }
    },
    {
      "cell_type": "code",
      "source": [
        "#mount drive\n",
        "drive.mount('/content/MyDrive') \n",
        "\n",
        "#select file path which we have to used and read by pandas  \n",
        "df=pd.read_csv('/content/MyDrive/MyDrive/alma project prctice/labeled_data.csv')"
      ],
      "metadata": {
        "id": "R06uDQC07RvV",
        "colab": {
          "base_uri": "https://localhost:8080/"
        },
        "outputId": "6275639f-15c3-4c67-fcff-a990b425aa0d"
      },
      "execution_count": 58,
      "outputs": [
        {
          "output_type": "stream",
          "name": "stdout",
          "text": [
            "Drive already mounted at /content/MyDrive; to attempt to forcibly remount, call drive.mount(\"/content/MyDrive\", force_remount=True).\n"
          ]
        }
      ]
    },
    {
      "cell_type": "markdown",
      "source": [
        "# **2.Find out degree of profanity by each tweet with help of dataset(NLP)**\n",
        "\n",
        "---\n",
        "\n",
        "\n"
      ],
      "metadata": {
        "id": "9M9Xe_o565QW"
      }
    },
    {
      "cell_type": "code",
      "source": [
        "#take only 500 rows from the dataset\n",
        "df=df.head(500)\n",
        "\n",
        "#our aim is to find degree of profanity by means of tweets only,so select only \"tweet\" column\n",
        "df=df.iloc[:,-1:]\n",
        "\n",
        "#final dataset\n",
        "df"
      ],
      "metadata": {
        "colab": {
          "base_uri": "https://localhost:8080/",
          "height": 424
        },
        "id": "khDGJgktULz2",
        "outputId": "ba05245f-f02d-43e5-f411-e09d82cec402"
      },
      "execution_count": 59,
      "outputs": [
        {
          "output_type": "execute_result",
          "data": {
            "text/plain": [
              "                                                 tweet\n",
              "0    !!! RT @mayasolovely: As a woman you shouldn't...\n",
              "1    !!!!! RT @mleew17: boy dats cold...tyga dwn ba...\n",
              "2    !!!!!!! RT @UrKindOfBrand Dawg!!!! RT @80sbaby...\n",
              "3    !!!!!!!!! RT @C_G_Anderson: @viva_based she lo...\n",
              "4    !!!!!!!!!!!!! RT @ShenikaRoberts: The shit you...\n",
              "..                                                 ...\n",
              "495  \"I'm a funky ass honkey.\" - @jtimberlake 's sh...\n",
              "496    \"I'm comparing KFC to the pussy\" @MaxOn_MaxOff5\n",
              "497  \"I'm downloading you a new personality and ord...\n",
              "498  \"I'm feelin like Malcolm in the middle, these ...\n",
              "499  \"I'm gonna piss on your dimple @SoNi99a_: Stop...\n",
              "\n",
              "[500 rows x 1 columns]"
            ],
            "text/html": [
              "\n",
              "  <div id=\"df-36947d24-1357-452f-8b4f-ec34b716de4f\">\n",
              "    <div class=\"colab-df-container\">\n",
              "      <div>\n",
              "<style scoped>\n",
              "    .dataframe tbody tr th:only-of-type {\n",
              "        vertical-align: middle;\n",
              "    }\n",
              "\n",
              "    .dataframe tbody tr th {\n",
              "        vertical-align: top;\n",
              "    }\n",
              "\n",
              "    .dataframe thead th {\n",
              "        text-align: right;\n",
              "    }\n",
              "</style>\n",
              "<table border=\"1\" class=\"dataframe\">\n",
              "  <thead>\n",
              "    <tr style=\"text-align: right;\">\n",
              "      <th></th>\n",
              "      <th>tweet</th>\n",
              "    </tr>\n",
              "  </thead>\n",
              "  <tbody>\n",
              "    <tr>\n",
              "      <th>0</th>\n",
              "      <td>!!! RT @mayasolovely: As a woman you shouldn't...</td>\n",
              "    </tr>\n",
              "    <tr>\n",
              "      <th>1</th>\n",
              "      <td>!!!!! RT @mleew17: boy dats cold...tyga dwn ba...</td>\n",
              "    </tr>\n",
              "    <tr>\n",
              "      <th>2</th>\n",
              "      <td>!!!!!!! RT @UrKindOfBrand Dawg!!!! RT @80sbaby...</td>\n",
              "    </tr>\n",
              "    <tr>\n",
              "      <th>3</th>\n",
              "      <td>!!!!!!!!! RT @C_G_Anderson: @viva_based she lo...</td>\n",
              "    </tr>\n",
              "    <tr>\n",
              "      <th>4</th>\n",
              "      <td>!!!!!!!!!!!!! RT @ShenikaRoberts: The shit you...</td>\n",
              "    </tr>\n",
              "    <tr>\n",
              "      <th>...</th>\n",
              "      <td>...</td>\n",
              "    </tr>\n",
              "    <tr>\n",
              "      <th>495</th>\n",
              "      <td>\"I'm a funky ass honkey.\" - @jtimberlake 's sh...</td>\n",
              "    </tr>\n",
              "    <tr>\n",
              "      <th>496</th>\n",
              "      <td>\"I'm comparing KFC to the pussy\" @MaxOn_MaxOff5</td>\n",
              "    </tr>\n",
              "    <tr>\n",
              "      <th>497</th>\n",
              "      <td>\"I'm downloading you a new personality and ord...</td>\n",
              "    </tr>\n",
              "    <tr>\n",
              "      <th>498</th>\n",
              "      <td>\"I'm feelin like Malcolm in the middle, these ...</td>\n",
              "    </tr>\n",
              "    <tr>\n",
              "      <th>499</th>\n",
              "      <td>\"I'm gonna piss on your dimple @SoNi99a_: Stop...</td>\n",
              "    </tr>\n",
              "  </tbody>\n",
              "</table>\n",
              "<p>500 rows × 1 columns</p>\n",
              "</div>\n",
              "      <button class=\"colab-df-convert\" onclick=\"convertToInteractive('df-36947d24-1357-452f-8b4f-ec34b716de4f')\"\n",
              "              title=\"Convert this dataframe to an interactive table.\"\n",
              "              style=\"display:none;\">\n",
              "        \n",
              "  <svg xmlns=\"http://www.w3.org/2000/svg\" height=\"24px\"viewBox=\"0 0 24 24\"\n",
              "       width=\"24px\">\n",
              "    <path d=\"M0 0h24v24H0V0z\" fill=\"none\"/>\n",
              "    <path d=\"M18.56 5.44l.94 2.06.94-2.06 2.06-.94-2.06-.94-.94-2.06-.94 2.06-2.06.94zm-11 1L8.5 8.5l.94-2.06 2.06-.94-2.06-.94L8.5 2.5l-.94 2.06-2.06.94zm10 10l.94 2.06.94-2.06 2.06-.94-2.06-.94-.94-2.06-.94 2.06-2.06.94z\"/><path d=\"M17.41 7.96l-1.37-1.37c-.4-.4-.92-.59-1.43-.59-.52 0-1.04.2-1.43.59L10.3 9.45l-7.72 7.72c-.78.78-.78 2.05 0 2.83L4 21.41c.39.39.9.59 1.41.59.51 0 1.02-.2 1.41-.59l7.78-7.78 2.81-2.81c.8-.78.8-2.07 0-2.86zM5.41 20L4 18.59l7.72-7.72 1.47 1.35L5.41 20z\"/>\n",
              "  </svg>\n",
              "      </button>\n",
              "      \n",
              "  <style>\n",
              "    .colab-df-container {\n",
              "      display:flex;\n",
              "      flex-wrap:wrap;\n",
              "      gap: 12px;\n",
              "    }\n",
              "\n",
              "    .colab-df-convert {\n",
              "      background-color: #E8F0FE;\n",
              "      border: none;\n",
              "      border-radius: 50%;\n",
              "      cursor: pointer;\n",
              "      display: none;\n",
              "      fill: #1967D2;\n",
              "      height: 32px;\n",
              "      padding: 0 0 0 0;\n",
              "      width: 32px;\n",
              "    }\n",
              "\n",
              "    .colab-df-convert:hover {\n",
              "      background-color: #E2EBFA;\n",
              "      box-shadow: 0px 1px 2px rgba(60, 64, 67, 0.3), 0px 1px 3px 1px rgba(60, 64, 67, 0.15);\n",
              "      fill: #174EA6;\n",
              "    }\n",
              "\n",
              "    [theme=dark] .colab-df-convert {\n",
              "      background-color: #3B4455;\n",
              "      fill: #D2E3FC;\n",
              "    }\n",
              "\n",
              "    [theme=dark] .colab-df-convert:hover {\n",
              "      background-color: #434B5C;\n",
              "      box-shadow: 0px 1px 3px 1px rgba(0, 0, 0, 0.15);\n",
              "      filter: drop-shadow(0px 1px 2px rgba(0, 0, 0, 0.3));\n",
              "      fill: #FFFFFF;\n",
              "    }\n",
              "  </style>\n",
              "\n",
              "      <script>\n",
              "        const buttonEl =\n",
              "          document.querySelector('#df-36947d24-1357-452f-8b4f-ec34b716de4f button.colab-df-convert');\n",
              "        buttonEl.style.display =\n",
              "          google.colab.kernel.accessAllowed ? 'block' : 'none';\n",
              "\n",
              "        async function convertToInteractive(key) {\n",
              "          const element = document.querySelector('#df-36947d24-1357-452f-8b4f-ec34b716de4f');\n",
              "          const dataTable =\n",
              "            await google.colab.kernel.invokeFunction('convertToInteractive',\n",
              "                                                     [key], {});\n",
              "          if (!dataTable) return;\n",
              "\n",
              "          const docLinkHtml = 'Like what you see? Visit the ' +\n",
              "            '<a target=\"_blank\" href=https://colab.research.google.com/notebooks/data_table.ipynb>data table notebook</a>'\n",
              "            + ' to learn more about interactive tables.';\n",
              "          element.innerHTML = '';\n",
              "          dataTable['output_type'] = 'display_data';\n",
              "          await google.colab.output.renderOutput(dataTable, element);\n",
              "          const docLink = document.createElement('div');\n",
              "          docLink.innerHTML = docLinkHtml;\n",
              "          element.appendChild(docLink);\n",
              "        }\n",
              "      </script>\n",
              "    </div>\n",
              "  </div>\n",
              "  "
            ]
          },
          "metadata": {},
          "execution_count": 59
        }
      ]
    },
    {
      "cell_type": "code",
      "source": [
        "#shape of dataframe\n",
        "df.shape"
      ],
      "metadata": {
        "colab": {
          "base_uri": "https://localhost:8080/"
        },
        "id": "VB-4WgcDWnXL",
        "outputId": "3a6a704c-6901-4129-d1ce-656211c211a7"
      },
      "execution_count": 60,
      "outputs": [
        {
          "output_type": "execute_result",
          "data": {
            "text/plain": [
              "(500, 1)"
            ]
          },
          "metadata": {},
          "execution_count": 60
        }
      ]
    },
    {
      "cell_type": "code",
      "source": [
        "#find out number of null values present in dataframe\n",
        "df.isnull().sum()"
      ],
      "metadata": {
        "colab": {
          "base_uri": "https://localhost:8080/"
        },
        "id": "qov9gPd0TUg2",
        "outputId": "dceafa75-9414-4c43-e436-167b746df099"
      },
      "execution_count": 61,
      "outputs": [
        {
          "output_type": "execute_result",
          "data": {
            "text/plain": [
              "tweet    0\n",
              "dtype: int64"
            ]
          },
          "metadata": {},
          "execution_count": 61
        }
      ]
    },
    {
      "cell_type": "markdown",
      "source": [
        "**There is no null values present in the \"tweet\" column.**"
      ],
      "metadata": {
        "id": "dDP4lWNpTgMs"
      }
    },
    {
      "cell_type": "code",
      "source": [
        "#import some libraries\n",
        "import nltk\n",
        "import re\n",
        "from nltk.corpus import stopwords\n",
        "from nltk.stem.porter import PorterStemmer"
      ],
      "metadata": {
        "id": "gKau6mBPV31A"
      },
      "execution_count": 62,
      "outputs": []
    },
    {
      "cell_type": "code",
      "source": [
        "#download stopwords\n",
        "nltk.download('stopwords')"
      ],
      "metadata": {
        "colab": {
          "base_uri": "https://localhost:8080/"
        },
        "id": "KgX9qiv5V899",
        "outputId": "6b792b6b-0289-4519-a51b-60f73c642340"
      },
      "execution_count": 63,
      "outputs": [
        {
          "output_type": "stream",
          "name": "stderr",
          "text": [
            "[nltk_data] Downloading package stopwords to /root/nltk_data...\n",
            "[nltk_data]   Package stopwords is already up-to-date!\n"
          ]
        },
        {
          "output_type": "execute_result",
          "data": {
            "text/plain": [
              "True"
            ]
          },
          "metadata": {},
          "execution_count": 63
        }
      ]
    },
    {
      "cell_type": "code",
      "source": [
        "### NLP ###\n",
        "\n",
        "#stemming\n",
        "ps = PorterStemmer()\n",
        "\n",
        "#define one empty list\n",
        "corpus = []\n",
        "\n",
        "#apply NLP\n",
        "for i in range(0, len(df)):\n",
        "\n",
        "    #remove punctuations\n",
        "    review = re.sub('[^a-zA-Z]', ' ', df['tweet'][i])\n",
        "\n",
        "    #convert to lower case\n",
        "    review = review.lower()\n",
        "\n",
        "    #split the sentence by \" \" (Spaces)\n",
        "    review = review.split()\n",
        "    \n",
        "    #apply stemming on each word\n",
        "    review = [ps.stem(word) for word in review if not word in stopwords.words('english')]\n",
        "    review = ' '.join(review)\n",
        "\n",
        "    #append each sentence in list called corpus\n",
        "    corpus.append(review)"
      ],
      "metadata": {
        "id": "IrPjtAiUVtCe"
      },
      "execution_count": 64,
      "outputs": []
    },
    {
      "cell_type": "code",
      "source": [
        "#add columns which carry cleaned tweets\n",
        "df[\"Clean_tweet\"]=corpus\n",
        "df"
      ],
      "metadata": {
        "colab": {
          "base_uri": "https://localhost:8080/",
          "height": 424
        },
        "id": "HFSo3C7eWtca",
        "outputId": "31c813b9-2162-4d73-b5b9-7cbc16bf40a8"
      },
      "execution_count": 65,
      "outputs": [
        {
          "output_type": "execute_result",
          "data": {
            "text/plain": [
              "                                                 tweet  \\\n",
              "0    !!! RT @mayasolovely: As a woman you shouldn't...   \n",
              "1    !!!!! RT @mleew17: boy dats cold...tyga dwn ba...   \n",
              "2    !!!!!!! RT @UrKindOfBrand Dawg!!!! RT @80sbaby...   \n",
              "3    !!!!!!!!! RT @C_G_Anderson: @viva_based she lo...   \n",
              "4    !!!!!!!!!!!!! RT @ShenikaRoberts: The shit you...   \n",
              "..                                                 ...   \n",
              "495  \"I'm a funky ass honkey.\" - @jtimberlake 's sh...   \n",
              "496    \"I'm comparing KFC to the pussy\" @MaxOn_MaxOff5   \n",
              "497  \"I'm downloading you a new personality and ord...   \n",
              "498  \"I'm feelin like Malcolm in the middle, these ...   \n",
              "499  \"I'm gonna piss on your dimple @SoNi99a_: Stop...   \n",
              "\n",
              "                                           Clean_tweet  \n",
              "0    rt mayasolov woman complain clean hous amp man...  \n",
              "1    rt mleew boy dat cold tyga dwn bad cuffin dat ...  \n",
              "2    rt urkindofbrand dawg rt sbabi life ever fuck ...  \n",
              "3           rt c g anderson viva base look like tranni  \n",
              "4    rt shenikarobert shit hear might true might fa...  \n",
              "..                                                 ...  \n",
              "495  funki ass honkey jtimberlak shout macklemor to...  \n",
              "496                      compar kfc pussi maxon maxoff  \n",
              "497  download new person order new face bitch love ...  \n",
              "498   feelin like malcolm middl bitch surround miss em  \n",
              "499  gonna piss dimpl soni stop wast prayer trash t...  \n",
              "\n",
              "[500 rows x 2 columns]"
            ],
            "text/html": [
              "\n",
              "  <div id=\"df-af7c08b5-406d-4794-b25d-c318a3a6e315\">\n",
              "    <div class=\"colab-df-container\">\n",
              "      <div>\n",
              "<style scoped>\n",
              "    .dataframe tbody tr th:only-of-type {\n",
              "        vertical-align: middle;\n",
              "    }\n",
              "\n",
              "    .dataframe tbody tr th {\n",
              "        vertical-align: top;\n",
              "    }\n",
              "\n",
              "    .dataframe thead th {\n",
              "        text-align: right;\n",
              "    }\n",
              "</style>\n",
              "<table border=\"1\" class=\"dataframe\">\n",
              "  <thead>\n",
              "    <tr style=\"text-align: right;\">\n",
              "      <th></th>\n",
              "      <th>tweet</th>\n",
              "      <th>Clean_tweet</th>\n",
              "    </tr>\n",
              "  </thead>\n",
              "  <tbody>\n",
              "    <tr>\n",
              "      <th>0</th>\n",
              "      <td>!!! RT @mayasolovely: As a woman you shouldn't...</td>\n",
              "      <td>rt mayasolov woman complain clean hous amp man...</td>\n",
              "    </tr>\n",
              "    <tr>\n",
              "      <th>1</th>\n",
              "      <td>!!!!! RT @mleew17: boy dats cold...tyga dwn ba...</td>\n",
              "      <td>rt mleew boy dat cold tyga dwn bad cuffin dat ...</td>\n",
              "    </tr>\n",
              "    <tr>\n",
              "      <th>2</th>\n",
              "      <td>!!!!!!! RT @UrKindOfBrand Dawg!!!! RT @80sbaby...</td>\n",
              "      <td>rt urkindofbrand dawg rt sbabi life ever fuck ...</td>\n",
              "    </tr>\n",
              "    <tr>\n",
              "      <th>3</th>\n",
              "      <td>!!!!!!!!! RT @C_G_Anderson: @viva_based she lo...</td>\n",
              "      <td>rt c g anderson viva base look like tranni</td>\n",
              "    </tr>\n",
              "    <tr>\n",
              "      <th>4</th>\n",
              "      <td>!!!!!!!!!!!!! RT @ShenikaRoberts: The shit you...</td>\n",
              "      <td>rt shenikarobert shit hear might true might fa...</td>\n",
              "    </tr>\n",
              "    <tr>\n",
              "      <th>...</th>\n",
              "      <td>...</td>\n",
              "      <td>...</td>\n",
              "    </tr>\n",
              "    <tr>\n",
              "      <th>495</th>\n",
              "      <td>\"I'm a funky ass honkey.\" - @jtimberlake 's sh...</td>\n",
              "      <td>funki ass honkey jtimberlak shout macklemor to...</td>\n",
              "    </tr>\n",
              "    <tr>\n",
              "      <th>496</th>\n",
              "      <td>\"I'm comparing KFC to the pussy\" @MaxOn_MaxOff5</td>\n",
              "      <td>compar kfc pussi maxon maxoff</td>\n",
              "    </tr>\n",
              "    <tr>\n",
              "      <th>497</th>\n",
              "      <td>\"I'm downloading you a new personality and ord...</td>\n",
              "      <td>download new person order new face bitch love ...</td>\n",
              "    </tr>\n",
              "    <tr>\n",
              "      <th>498</th>\n",
              "      <td>\"I'm feelin like Malcolm in the middle, these ...</td>\n",
              "      <td>feelin like malcolm middl bitch surround miss em</td>\n",
              "    </tr>\n",
              "    <tr>\n",
              "      <th>499</th>\n",
              "      <td>\"I'm gonna piss on your dimple @SoNi99a_: Stop...</td>\n",
              "      <td>gonna piss dimpl soni stop wast prayer trash t...</td>\n",
              "    </tr>\n",
              "  </tbody>\n",
              "</table>\n",
              "<p>500 rows × 2 columns</p>\n",
              "</div>\n",
              "      <button class=\"colab-df-convert\" onclick=\"convertToInteractive('df-af7c08b5-406d-4794-b25d-c318a3a6e315')\"\n",
              "              title=\"Convert this dataframe to an interactive table.\"\n",
              "              style=\"display:none;\">\n",
              "        \n",
              "  <svg xmlns=\"http://www.w3.org/2000/svg\" height=\"24px\"viewBox=\"0 0 24 24\"\n",
              "       width=\"24px\">\n",
              "    <path d=\"M0 0h24v24H0V0z\" fill=\"none\"/>\n",
              "    <path d=\"M18.56 5.44l.94 2.06.94-2.06 2.06-.94-2.06-.94-.94-2.06-.94 2.06-2.06.94zm-11 1L8.5 8.5l.94-2.06 2.06-.94-2.06-.94L8.5 2.5l-.94 2.06-2.06.94zm10 10l.94 2.06.94-2.06 2.06-.94-2.06-.94-.94-2.06-.94 2.06-2.06.94z\"/><path d=\"M17.41 7.96l-1.37-1.37c-.4-.4-.92-.59-1.43-.59-.52 0-1.04.2-1.43.59L10.3 9.45l-7.72 7.72c-.78.78-.78 2.05 0 2.83L4 21.41c.39.39.9.59 1.41.59.51 0 1.02-.2 1.41-.59l7.78-7.78 2.81-2.81c.8-.78.8-2.07 0-2.86zM5.41 20L4 18.59l7.72-7.72 1.47 1.35L5.41 20z\"/>\n",
              "  </svg>\n",
              "      </button>\n",
              "      \n",
              "  <style>\n",
              "    .colab-df-container {\n",
              "      display:flex;\n",
              "      flex-wrap:wrap;\n",
              "      gap: 12px;\n",
              "    }\n",
              "\n",
              "    .colab-df-convert {\n",
              "      background-color: #E8F0FE;\n",
              "      border: none;\n",
              "      border-radius: 50%;\n",
              "      cursor: pointer;\n",
              "      display: none;\n",
              "      fill: #1967D2;\n",
              "      height: 32px;\n",
              "      padding: 0 0 0 0;\n",
              "      width: 32px;\n",
              "    }\n",
              "\n",
              "    .colab-df-convert:hover {\n",
              "      background-color: #E2EBFA;\n",
              "      box-shadow: 0px 1px 2px rgba(60, 64, 67, 0.3), 0px 1px 3px 1px rgba(60, 64, 67, 0.15);\n",
              "      fill: #174EA6;\n",
              "    }\n",
              "\n",
              "    [theme=dark] .colab-df-convert {\n",
              "      background-color: #3B4455;\n",
              "      fill: #D2E3FC;\n",
              "    }\n",
              "\n",
              "    [theme=dark] .colab-df-convert:hover {\n",
              "      background-color: #434B5C;\n",
              "      box-shadow: 0px 1px 3px 1px rgba(0, 0, 0, 0.15);\n",
              "      filter: drop-shadow(0px 1px 2px rgba(0, 0, 0, 0.3));\n",
              "      fill: #FFFFFF;\n",
              "    }\n",
              "  </style>\n",
              "\n",
              "      <script>\n",
              "        const buttonEl =\n",
              "          document.querySelector('#df-af7c08b5-406d-4794-b25d-c318a3a6e315 button.colab-df-convert');\n",
              "        buttonEl.style.display =\n",
              "          google.colab.kernel.accessAllowed ? 'block' : 'none';\n",
              "\n",
              "        async function convertToInteractive(key) {\n",
              "          const element = document.querySelector('#df-af7c08b5-406d-4794-b25d-c318a3a6e315');\n",
              "          const dataTable =\n",
              "            await google.colab.kernel.invokeFunction('convertToInteractive',\n",
              "                                                     [key], {});\n",
              "          if (!dataTable) return;\n",
              "\n",
              "          const docLinkHtml = 'Like what you see? Visit the ' +\n",
              "            '<a target=\"_blank\" href=https://colab.research.google.com/notebooks/data_table.ipynb>data table notebook</a>'\n",
              "            + ' to learn more about interactive tables.';\n",
              "          element.innerHTML = '';\n",
              "          dataTable['output_type'] = 'display_data';\n",
              "          await google.colab.output.renderOutput(dataTable, element);\n",
              "          const docLink = document.createElement('div');\n",
              "          docLink.innerHTML = docLinkHtml;\n",
              "          element.appendChild(docLink);\n",
              "        }\n",
              "      </script>\n",
              "    </div>\n",
              "  </div>\n",
              "  "
            ]
          },
          "metadata": {},
          "execution_count": 65
        }
      ]
    },
    {
      "cell_type": "code",
      "source": [
        "#empty list to store count of bad words present in tweet\n",
        "l=[]\n",
        "\n",
        "#for loop on \"Clean_tweet\" column\n",
        "for n in df[\"Clean_tweet\"]:\n",
        "    #split tweet by \" \"\n",
        "    n=n.split(\" \")\n",
        "    true=0\n",
        "    false=0\n",
        "\n",
        "    #itterate each word to check word is bad or not\n",
        "    for i in n:\n",
        "      if profanity.contains_profanity(i)==True:\n",
        "          true=true+1\n",
        "          \n",
        "      else:\n",
        "        false=false+1\n",
        "\n",
        "    #add count of bad words in each tweet\n",
        "    l.append(true)"
      ],
      "metadata": {
        "id": "fUSZCcTTggQx"
      },
      "execution_count": 66,
      "outputs": []
    },
    {
      "cell_type": "code",
      "source": [
        "#add new column consist of number of bad words present\n",
        "df[\"Bad_words\"]=l"
      ],
      "metadata": {
        "id": "iXOspURFqEPw"
      },
      "execution_count": 67,
      "outputs": []
    },
    {
      "cell_type": "code",
      "source": [
        "#empty list to store total length of the tweet\n",
        "q=[]\n",
        "for k in df[\"tweet\"]:\n",
        "  k=k.split(\" \")\n",
        "\n",
        "  #find length of each tweet\n",
        "  p=len(k)\n",
        "  q.append(p)"
      ],
      "metadata": {
        "id": "-vZN409blJyr"
      },
      "execution_count": 68,
      "outputs": []
    },
    {
      "cell_type": "code",
      "source": [
        "#add column consist of total number of length of tweet\n",
        "df[\"Total_words\"]=q"
      ],
      "metadata": {
        "id": "1g3RN6xUnrEk"
      },
      "execution_count": 69,
      "outputs": []
    },
    {
      "cell_type": "code",
      "source": [
        "#degree of profanity\n",
        "\n",
        "#degree of profanity=Sum of bad words present in the tweet divided by total length of tweet.This value store in new column called \"degree_of_profinity\"\n",
        "df[\"degree_of_profinity\"]=df[\"Bad_words\"]/df[\"Total_words\"]"
      ],
      "metadata": {
        "id": "-ipNwrnfnFYV"
      },
      "execution_count": 70,
      "outputs": []
    },
    {
      "cell_type": "code",
      "source": [
        "#final dataframe\n",
        "df.head(10)"
      ],
      "metadata": {
        "colab": {
          "base_uri": "https://localhost:8080/",
          "height": 363
        },
        "id": "i1AJtaYfoEBF",
        "outputId": "c3561e08-954f-4299-b838-96b23d6dfff4"
      },
      "execution_count": 71,
      "outputs": [
        {
          "output_type": "execute_result",
          "data": {
            "text/plain": [
              "                                               tweet  \\\n",
              "0  !!! RT @mayasolovely: As a woman you shouldn't...   \n",
              "1  !!!!! RT @mleew17: boy dats cold...tyga dwn ba...   \n",
              "2  !!!!!!! RT @UrKindOfBrand Dawg!!!! RT @80sbaby...   \n",
              "3  !!!!!!!!! RT @C_G_Anderson: @viva_based she lo...   \n",
              "4  !!!!!!!!!!!!! RT @ShenikaRoberts: The shit you...   \n",
              "5  !!!!!!!!!!!!!!!!!!\"@T_Madison_x: The shit just...   \n",
              "6  !!!!!!\"@__BrighterDays: I can not just sit up ...   \n",
              "7  !!!!&#8220;@selfiequeenbri: cause I'm tired of...   \n",
              "8  \" &amp; you might not get ya bitch back &amp; ...   \n",
              "9  \" @rhythmixx_ :hobbies include: fighting Maria...   \n",
              "\n",
              "                                         Clean_tweet  Bad_words  Total_words  \\\n",
              "0  rt mayasolov woman complain clean hous amp man...          0           25   \n",
              "1  rt mleew boy dat cold tyga dwn bad cuffin dat ...          0           16   \n",
              "2  rt urkindofbrand dawg rt sbabi life ever fuck ...          3           21   \n",
              "3         rt c g anderson viva base look like tranni          0            9   \n",
              "4  rt shenikarobert shit hear might true might fa...          2           26   \n",
              "5  madison x shit blow claim faith somebodi still...          2           19   \n",
              "6  brighterday sit hate anoth bitch got much shit go          2           20   \n",
              "7  selfiequeenbri caus tire big bitch come us ski...          1           13   \n",
              "8               amp might get ya bitch back amp that          1           13   \n",
              "9          rhythmixx hobbi includ fight mariam bitch          1            6   \n",
              "\n",
              "   degree_of_profinity  \n",
              "0             0.000000  \n",
              "1             0.000000  \n",
              "2             0.142857  \n",
              "3             0.000000  \n",
              "4             0.076923  \n",
              "5             0.105263  \n",
              "6             0.100000  \n",
              "7             0.076923  \n",
              "8             0.076923  \n",
              "9             0.166667  "
            ],
            "text/html": [
              "\n",
              "  <div id=\"df-81325332-f178-4cac-8260-e7552300736e\">\n",
              "    <div class=\"colab-df-container\">\n",
              "      <div>\n",
              "<style scoped>\n",
              "    .dataframe tbody tr th:only-of-type {\n",
              "        vertical-align: middle;\n",
              "    }\n",
              "\n",
              "    .dataframe tbody tr th {\n",
              "        vertical-align: top;\n",
              "    }\n",
              "\n",
              "    .dataframe thead th {\n",
              "        text-align: right;\n",
              "    }\n",
              "</style>\n",
              "<table border=\"1\" class=\"dataframe\">\n",
              "  <thead>\n",
              "    <tr style=\"text-align: right;\">\n",
              "      <th></th>\n",
              "      <th>tweet</th>\n",
              "      <th>Clean_tweet</th>\n",
              "      <th>Bad_words</th>\n",
              "      <th>Total_words</th>\n",
              "      <th>degree_of_profinity</th>\n",
              "    </tr>\n",
              "  </thead>\n",
              "  <tbody>\n",
              "    <tr>\n",
              "      <th>0</th>\n",
              "      <td>!!! RT @mayasolovely: As a woman you shouldn't...</td>\n",
              "      <td>rt mayasolov woman complain clean hous amp man...</td>\n",
              "      <td>0</td>\n",
              "      <td>25</td>\n",
              "      <td>0.000000</td>\n",
              "    </tr>\n",
              "    <tr>\n",
              "      <th>1</th>\n",
              "      <td>!!!!! RT @mleew17: boy dats cold...tyga dwn ba...</td>\n",
              "      <td>rt mleew boy dat cold tyga dwn bad cuffin dat ...</td>\n",
              "      <td>0</td>\n",
              "      <td>16</td>\n",
              "      <td>0.000000</td>\n",
              "    </tr>\n",
              "    <tr>\n",
              "      <th>2</th>\n",
              "      <td>!!!!!!! RT @UrKindOfBrand Dawg!!!! RT @80sbaby...</td>\n",
              "      <td>rt urkindofbrand dawg rt sbabi life ever fuck ...</td>\n",
              "      <td>3</td>\n",
              "      <td>21</td>\n",
              "      <td>0.142857</td>\n",
              "    </tr>\n",
              "    <tr>\n",
              "      <th>3</th>\n",
              "      <td>!!!!!!!!! RT @C_G_Anderson: @viva_based she lo...</td>\n",
              "      <td>rt c g anderson viva base look like tranni</td>\n",
              "      <td>0</td>\n",
              "      <td>9</td>\n",
              "      <td>0.000000</td>\n",
              "    </tr>\n",
              "    <tr>\n",
              "      <th>4</th>\n",
              "      <td>!!!!!!!!!!!!! RT @ShenikaRoberts: The shit you...</td>\n",
              "      <td>rt shenikarobert shit hear might true might fa...</td>\n",
              "      <td>2</td>\n",
              "      <td>26</td>\n",
              "      <td>0.076923</td>\n",
              "    </tr>\n",
              "    <tr>\n",
              "      <th>5</th>\n",
              "      <td>!!!!!!!!!!!!!!!!!!\"@T_Madison_x: The shit just...</td>\n",
              "      <td>madison x shit blow claim faith somebodi still...</td>\n",
              "      <td>2</td>\n",
              "      <td>19</td>\n",
              "      <td>0.105263</td>\n",
              "    </tr>\n",
              "    <tr>\n",
              "      <th>6</th>\n",
              "      <td>!!!!!!\"@__BrighterDays: I can not just sit up ...</td>\n",
              "      <td>brighterday sit hate anoth bitch got much shit go</td>\n",
              "      <td>2</td>\n",
              "      <td>20</td>\n",
              "      <td>0.100000</td>\n",
              "    </tr>\n",
              "    <tr>\n",
              "      <th>7</th>\n",
              "      <td>!!!!&amp;#8220;@selfiequeenbri: cause I'm tired of...</td>\n",
              "      <td>selfiequeenbri caus tire big bitch come us ski...</td>\n",
              "      <td>1</td>\n",
              "      <td>13</td>\n",
              "      <td>0.076923</td>\n",
              "    </tr>\n",
              "    <tr>\n",
              "      <th>8</th>\n",
              "      <td>\" &amp;amp; you might not get ya bitch back &amp;amp; ...</td>\n",
              "      <td>amp might get ya bitch back amp that</td>\n",
              "      <td>1</td>\n",
              "      <td>13</td>\n",
              "      <td>0.076923</td>\n",
              "    </tr>\n",
              "    <tr>\n",
              "      <th>9</th>\n",
              "      <td>\" @rhythmixx_ :hobbies include: fighting Maria...</td>\n",
              "      <td>rhythmixx hobbi includ fight mariam bitch</td>\n",
              "      <td>1</td>\n",
              "      <td>6</td>\n",
              "      <td>0.166667</td>\n",
              "    </tr>\n",
              "  </tbody>\n",
              "</table>\n",
              "</div>\n",
              "      <button class=\"colab-df-convert\" onclick=\"convertToInteractive('df-81325332-f178-4cac-8260-e7552300736e')\"\n",
              "              title=\"Convert this dataframe to an interactive table.\"\n",
              "              style=\"display:none;\">\n",
              "        \n",
              "  <svg xmlns=\"http://www.w3.org/2000/svg\" height=\"24px\"viewBox=\"0 0 24 24\"\n",
              "       width=\"24px\">\n",
              "    <path d=\"M0 0h24v24H0V0z\" fill=\"none\"/>\n",
              "    <path d=\"M18.56 5.44l.94 2.06.94-2.06 2.06-.94-2.06-.94-.94-2.06-.94 2.06-2.06.94zm-11 1L8.5 8.5l.94-2.06 2.06-.94-2.06-.94L8.5 2.5l-.94 2.06-2.06.94zm10 10l.94 2.06.94-2.06 2.06-.94-2.06-.94-.94-2.06-.94 2.06-2.06.94z\"/><path d=\"M17.41 7.96l-1.37-1.37c-.4-.4-.92-.59-1.43-.59-.52 0-1.04.2-1.43.59L10.3 9.45l-7.72 7.72c-.78.78-.78 2.05 0 2.83L4 21.41c.39.39.9.59 1.41.59.51 0 1.02-.2 1.41-.59l7.78-7.78 2.81-2.81c.8-.78.8-2.07 0-2.86zM5.41 20L4 18.59l7.72-7.72 1.47 1.35L5.41 20z\"/>\n",
              "  </svg>\n",
              "      </button>\n",
              "      \n",
              "  <style>\n",
              "    .colab-df-container {\n",
              "      display:flex;\n",
              "      flex-wrap:wrap;\n",
              "      gap: 12px;\n",
              "    }\n",
              "\n",
              "    .colab-df-convert {\n",
              "      background-color: #E8F0FE;\n",
              "      border: none;\n",
              "      border-radius: 50%;\n",
              "      cursor: pointer;\n",
              "      display: none;\n",
              "      fill: #1967D2;\n",
              "      height: 32px;\n",
              "      padding: 0 0 0 0;\n",
              "      width: 32px;\n",
              "    }\n",
              "\n",
              "    .colab-df-convert:hover {\n",
              "      background-color: #E2EBFA;\n",
              "      box-shadow: 0px 1px 2px rgba(60, 64, 67, 0.3), 0px 1px 3px 1px rgba(60, 64, 67, 0.15);\n",
              "      fill: #174EA6;\n",
              "    }\n",
              "\n",
              "    [theme=dark] .colab-df-convert {\n",
              "      background-color: #3B4455;\n",
              "      fill: #D2E3FC;\n",
              "    }\n",
              "\n",
              "    [theme=dark] .colab-df-convert:hover {\n",
              "      background-color: #434B5C;\n",
              "      box-shadow: 0px 1px 3px 1px rgba(0, 0, 0, 0.15);\n",
              "      filter: drop-shadow(0px 1px 2px rgba(0, 0, 0, 0.3));\n",
              "      fill: #FFFFFF;\n",
              "    }\n",
              "  </style>\n",
              "\n",
              "      <script>\n",
              "        const buttonEl =\n",
              "          document.querySelector('#df-81325332-f178-4cac-8260-e7552300736e button.colab-df-convert');\n",
              "        buttonEl.style.display =\n",
              "          google.colab.kernel.accessAllowed ? 'block' : 'none';\n",
              "\n",
              "        async function convertToInteractive(key) {\n",
              "          const element = document.querySelector('#df-81325332-f178-4cac-8260-e7552300736e');\n",
              "          const dataTable =\n",
              "            await google.colab.kernel.invokeFunction('convertToInteractive',\n",
              "                                                     [key], {});\n",
              "          if (!dataTable) return;\n",
              "\n",
              "          const docLinkHtml = 'Like what you see? Visit the ' +\n",
              "            '<a target=\"_blank\" href=https://colab.research.google.com/notebooks/data_table.ipynb>data table notebook</a>'\n",
              "            + ' to learn more about interactive tables.';\n",
              "          element.innerHTML = '';\n",
              "          dataTable['output_type'] = 'display_data';\n",
              "          await google.colab.output.renderOutput(dataTable, element);\n",
              "          const docLink = document.createElement('div');\n",
              "          docLink.innerHTML = docLinkHtml;\n",
              "          element.appendChild(docLink);\n",
              "        }\n",
              "      </script>\n",
              "    </div>\n",
              "  </div>\n",
              "  "
            ]
          },
          "metadata": {},
          "execution_count": 71
        }
      ]
    },
    {
      "cell_type": "markdown",
      "source": [
        "# **Density plot : To show density of \"degree of profinity\" value.**\n",
        "\n",
        "---"
      ],
      "metadata": {
        "id": "gc5ze0fEcVwC"
      }
    },
    {
      "cell_type": "code",
      "source": [
        "#import visualisation libraries\n",
        "import seaborn as sns\n",
        "import matplotlib.pyplot as plt\n",
        "\n",
        "#define figure size\n",
        "plt.figure(figsize=(15,8))\n",
        "\n",
        "#density plot\n",
        "sns.distplot(df['degree_of_profinity'])\n",
        "plt.title(\"Density of degree of profinity\")"
      ],
      "metadata": {
        "colab": {
          "base_uri": "https://localhost:8080/",
          "height": 531
        },
        "id": "Rw72m3M3bzb6",
        "outputId": "a6ec90c2-8439-4ec5-e97e-36b2b386b906"
      },
      "execution_count": 72,
      "outputs": [
        {
          "output_type": "execute_result",
          "data": {
            "text/plain": [
              "Text(0.5, 1.0, 'Density of degree of profinity')"
            ]
          },
          "metadata": {},
          "execution_count": 72
        },
        {
          "output_type": "display_data",
          "data": {
            "text/plain": [
              "<Figure size 1080x576 with 1 Axes>"
            ],
            "image/png": "[encoded data removed]"
          },
          "metadata": {
            "needs_background": "light"
          }
        }
      ]
    },
    {
      "cell_type": "markdown",
      "source": [
        "# **Thank you........**\n",
        "\n",
        "----"
      ],
      "metadata": {
        "id": "bRjjuHWWdZLq"
      }
    }
  ],
  "metadata": {
    "colab": {
      "collapsed_sections": [],
      "name": "Profanity of tweets",
      "provenance": [],
      "include_colab_link": true
    },
    "kernelspec": {
      "display_name": "Python 3",
      "name": "python3"
    }
  },
  "nbformat": 4,
  "nbformat_minor": 0
}